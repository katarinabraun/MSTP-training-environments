{
 "cells": [
  {
   "cell_type": "code",
   "execution_count": 1,
   "metadata": {},
   "outputs": [],
   "source": [
    "import pandas as pd\n",
    "import numpy as np\n",
    "import matplotlib.pyplot as plt\n",
    "import matplotlib as mpl\n",
    "from scipy import stats"
   ]
  },
  {
   "cell_type": "code",
   "execution_count": 2,
   "metadata": {},
   "outputs": [],
   "source": [
    "# import data from CSV file and drop any rows with incomplete data and standardize author order entries\n",
    "all_data = pd.read_csv('../data/FWCI_publications_raw_data.csv')\n",
    "all_data = all_data.replace(0, np.nan)\n",
    "all_data = all_data.dropna()\n",
    "all_data['Author Order'] = all_data['Author Order'].replace({'First':'First_Last', 'Last':'First_Last'})\n",
    "\n",
    "# drop all rows with zeroes\n",
    "# all_data = all_data.loc[(all_data!=0.0).any(axis=1)]\n",
    "\n",
    "# uncomment if you'd like to print the data\n",
    "# all_data\n",
    "\n",
    "# save cleaned dataframe\n",
    "# all_data.to_csv('../data/pubs_cleaned.csv', sep=',')"
   ]
  },
  {
   "cell_type": "code",
   "execution_count": 3,
   "metadata": {},
   "outputs": [],
   "source": [
    "# phase dataframe into male and female entries \n",
    "female = all_data[all_data['Identifier'].str.contains(\"F\")]\n",
    "male = all_data[all_data['Identifier'].str.contains(\"M\")]\n",
    "\n",
    "# phase dataframe into FWCI only \n",
    "female_FWCI = female[['Field-weighted citation impact']]\n",
    "male_FWCI = male[['Field-weighted citation impact']]\n",
    "\n",
    "# save these to CSV files \n",
    "# female_FWCI.to_csv('female_FWCI.csv', sep=',')\n",
    "# male_FWCI.to_csv('male_FWCI.csv', sep=',')"
   ]
  },
  {
   "cell_type": "code",
   "execution_count": 4,
   "metadata": {},
   "outputs": [
    {
     "name": "stderr",
     "output_type": "stream",
     "text": [
      "/Users/katbraun/anaconda3/lib/python3.6/site-packages/matplotlib/cbook/__init__.py:424: MatplotlibDeprecationWarning: \n",
      "Passing one of 'on', 'true', 'off', 'false' as a boolean is deprecated; use an actual boolean (True/False) instead.\n",
      "  warn_deprecated(\"2.2\", \"Passing one of 'on', 'true', 'off', 'false' as a \"\n"
     ]
    },
    {
     "data": {
      "image/png": "[encoded data removed]",
      "text/plain": [
       "<Figure size 1080x576 with 1 Axes>"
      ]
     },
     "metadata": {
      "needs_background": "light"
     },
     "output_type": "display_data"
    }
   ],
   "source": [
    "# check to see whether the FWCI are normally distributed \n",
    "\n",
    "ax = female_FWCI.hist(column='Field-weighted citation impact', bins=50, grid=False, figsize=(15,8), color='#86bf91', zorder=2, rwidth=0.9)\n",
    "\n",
    "ax = ax[0]\n",
    "for x in ax:\n",
    "    \n",
    "    # Specify x axis range\n",
    "    x.set_xlim([0,20])\n",
    "\n",
    "    # Despine\n",
    "    x.spines['right'].set_visible(False)\n",
    "    x.spines['top'].set_visible(False)\n",
    "    x.spines['left'].set_visible(False)\n",
    "\n",
    "    # Switch off ticks\n",
    "    x.tick_params(axis=\"both\", which=\"both\", bottom=\"off\", top=\"off\", labelbottom=\"on\", left=\"off\", right=\"off\", labelleft=\"on\")\n",
    "\n",
    "    # Draw horizontal axis lines\n",
    "    vals = x.get_yticks()\n",
    "    for tick in vals:\n",
    "        x.axhline(y=tick, linestyle='dashed', alpha=0.4, color='#eeeeee', zorder=1)\n",
    "\n",
    "    # Remove title\n",
    "    x.set_title(\"\")\n",
    "\n",
    "    # Set x-axis label\n",
    "    x.set_xlabel(\"FWCI\", labelpad=20, weight='bold', size=12)\n",
    "\n",
    "    # Set y-axis label\n",
    "    x.set_ylabel(\"Student count\", labelpad=20, weight='bold', size=12)\n",
    "\n",
    "    # save to PDF \n",
    "#     plt.savefig(\"../figures/female-FWCI-distribution.pdf\", bbox_inches='tight')\n",
    "    \n",
    "    #"
   ]
  },
  {
   "cell_type": "code",
   "execution_count": 5,
   "metadata": {
    "scrolled": true
   },
   "outputs": [
    {
     "data": {
      "image/png": "[encoded data removed]",
      "text/plain": [
       "<Figure size 1080x576 with 1 Axes>"
      ]
     },
     "metadata": {
      "needs_background": "light"
     },
     "output_type": "display_data"
    }
   ],
   "source": [
    "# check to see whether the FWCI are normally distributed \n",
    "\n",
    "ax = male_FWCI.hist(column='Field-weighted citation impact', bins=60, grid=False, figsize=(15,8), color='#86bf91', zorder=2, rwidth=0.9)\n",
    "\n",
    "ax = ax[0]\n",
    "for x in ax:\n",
    "\n",
    "    # Despine\n",
    "    x.spines['right'].set_visible(False)\n",
    "    x.spines['top'].set_visible(False)\n",
    "    x.spines['left'].set_visible(False)\n",
    "\n",
    "    # Switch off ticks\n",
    "    x.tick_params(axis=\"both\", which=\"both\", bottom=\"off\", top=\"off\", labelbottom=\"on\", left=\"off\", right=\"off\", labelleft=\"on\")\n",
    "\n",
    "    # Draw horizontal axis lines\n",
    "    vals = x.get_yticks()\n",
    "    for tick in vals:\n",
    "        x.axhline(y=tick, linestyle='dashed', alpha=0.4, color='#eeeeee', zorder=1)\n",
    "\n",
    "    # Remove title\n",
    "    x.set_title(\"\")\n",
    "\n",
    "    # Set x-axis label\n",
    "    x.set_xlabel(\"FWCI\", labelpad=20, weight='bold', size=12)\n",
    "\n",
    "    # Set y-axis label\n",
    "    x.set_ylabel(\"publication count\", labelpad=20, weight='bold', size=12)\n",
    "\n",
    "    # save to PDF \n",
    "#     plt.savefig(\"../figures/male-FWCI-distribution.pdf\", bbox_inches='tight')\n",
    "    \n",
    "    #"
   ]
  },
  {
   "cell_type": "code",
   "execution_count": 6,
   "metadata": {},
   "outputs": [
    {
     "name": "stdout",
     "output_type": "stream",
     "text": [
      "\n",
      " Welch's t-test= -1.4448 \n",
      " p-value = 0.1489 \n",
      " Welch-Satterthwaite Degrees of Freedom= 714.1796\n"
     ]
    }
   ],
   "source": [
    "# check for equality of variances (Welch's t test)\n",
    "\n",
    "# first value in the tuple is the W test statistic and the second value is the p-value \n",
    "# I think both of these violate assumption of normality, so I should stop here, but I'll proceed for learning purposes\n",
    "stats.shapiro(male_FWCI['Field-weighted citation impact'])\n",
    "stats.shapiro(female_FWCI['Field-weighted citation impact'])\n",
    "\n",
    "# Conduct a Welch's t-test\n",
    "# If the p-value is significant, then we can reject the null hypothesis in support of the alternative (variances are equal)\n",
    "stats.ttest_ind(male_FWCI['Field-weighted citation impact'], female_FWCI['Field-weighted citation impact'], equal_var = False)\n",
    "\n",
    "# Degrees of freedom \n",
    "def welch_dof(x,y):\n",
    "        dof = (x.var()/x.size + y.var()/y.size)**2 / ((x.var()/x.size)**2 / (x.size-1) + (y.var()/y.size)**2 / (y.size-1))\n",
    "        print(f\"Welch-Satterthwaite Degrees of Freedom= {dof:.4f}\")\n",
    "        \n",
    "# welch_dof(female_FWCI['Field-weighted citation impact'], male_FWCI['Field-weighted citation impact'])\n",
    "\n",
    "# Put the function together \n",
    "def welch_ttest(x, y): \n",
    "    ## Welch-Satterthwaite Degrees of Freedom ##\n",
    "    dof = (x.var()/x.size + y.var()/y.size)**2 / ((x.var()/x.size)**2 / (x.size-1) + (y.var()/y.size)**2 / (y.size-1))\n",
    "   \n",
    "    t, p = stats.ttest_ind(x, y, equal_var = False)\n",
    "    \n",
    "    print(\"\\n\",\n",
    "          f\"Welch's t-test= {t:.4f}\", \"\\n\",\n",
    "          f\"p-value = {p:.4f}\", \"\\n\",\n",
    "          f\"Welch-Satterthwaite Degrees of Freedom= {dof:.4f}\")\n",
    "\n",
    "welch_ttest(female_FWCI['Field-weighted citation impact'], male_FWCI['Field-weighted citation impact'])"
   ]
  },
  {
   "cell_type": "code",
   "execution_count": 7,
   "metadata": {},
   "outputs": [],
   "source": [
    "# phase male and female dataframes into first/last and other \n",
    "female_first = female[female['Author Order'].str.contains(\"First\")]\n",
    "female_other = female[female['Author Order'].str.contains(\"Other\")]\n",
    "male_first = male[male['Author Order'].str.contains(\"First\")]\n",
    "male_other = male[male['Author Order'].str.contains(\"Other\")]\n",
    "\n",
    "# save all of these dataframes to CSV files\n",
    "# female_first.to_csv('../data/female_first_authors.csv', sep=',')\n",
    "# female_other.to_csv('../data/female_middle_authors.csv', sep=',')\n",
    "# male_first.to_csv('../data/male_first_authors.csv', sep=',')\n",
    "# male_other.to_csv('../data/male_middle_authors.csv', sep=',')\n",
    "\n",
    "# uncomment to print these dataframes\n",
    "# female_first\n",
    "# female_other\n",
    "# male_first\n",
    "# male_other"
   ]
  },
  {
   "cell_type": "code",
   "execution_count": 8,
   "metadata": {},
   "outputs": [
    {
     "name": "stdout",
     "output_type": "stream",
     "text": [
      "The number of citations per female first or last author papers is : 30.192857142857143  +/-  42.0153956757805\n",
      "Field-weighted citation impact score for female first or last author papers is : 1.5203571428571425  +/-  1.826953831706216\n",
      "\n",
      "\n",
      "The number of citations per male first or last author papers is : 39.19844357976654  +/-  50.70267495476046\n",
      "Field-weighted citation impact score for male first or last author papers is : 1.8187937743190654  +/-  2.4575293472227524\n",
      "\n",
      "\n",
      "The number of citations per female middle-author papers is : 31.044585987261147  +/-  50.91563458801796\n",
      "Field-weighted citation impact score for female middle-author papers is : 1.863694267515924  +/-  2.092045768063418\n",
      "\n",
      "\n",
      "The number of citations per male middle-author papers is : 51.36101083032491  +/-  100.46936765330854\n",
      "Field-weighted citation impact score for male middle-author papers is : 2.3796028880866436  +/-  7.928727728485527\n"
     ]
    }
   ],
   "source": [
    "# generate and print some averages and std deviation of the entire population\n",
    "\n",
    "female_citations_avg = female_first['# of citations'].mean()\n",
    "female_impact_avg = female_first['Field-weighted citation impact'].mean()\n",
    "female_citations_std = female_first['# of citations'].std()\n",
    "female_impact_std = female_first['Field-weighted citation impact'].std()\n",
    "\n",
    "male_citations_avg = male_first['# of citations'].mean()\n",
    "male_impact_avg = male_first['Field-weighted citation impact'].mean()\n",
    "male_citations_std = male_first['# of citations'].std()\n",
    "male_impact_std = male_first['Field-weighted citation impact'].std()\n",
    "\n",
    "female_citations_other_avg = female_other['# of citations'].mean()\n",
    "female_impact_other_avg = female_other['Field-weighted citation impact'].mean()\n",
    "female_citations_other_std = female_other['# of citations'].std()\n",
    "female_impact_other_std = female_other['Field-weighted citation impact'].std()\n",
    "\n",
    "male_citations_other_avg = male_other['# of citations'].mean()\n",
    "male_impact_other_avg = male_other['Field-weighted citation impact'].mean()\n",
    "male_citations_other_std = male_other['# of citations'].std()\n",
    "male_impact_other_std = male_other['Field-weighted citation impact'].std()\n",
    "\n",
    "print('The number of citations per female first or last author papers is :', female_first['# of citations'].mean(), ' +/- ', female_first['# of citations'].std())\n",
    "print('Field-weighted citation impact score for female first or last author papers is :', female_first['Field-weighted citation impact'].mean(), ' +/- ', female_first['Field-weighted citation impact'].std())\n",
    "\n",
    "print('\\n')\n",
    "\n",
    "print('The number of citations per male first or last author papers is :', male_first['# of citations'].mean(), ' +/- ', male_first['# of citations'].std())\n",
    "print('Field-weighted citation impact score for male first or last author papers is :', male_first['Field-weighted citation impact'].mean(), ' +/- ', male_first['Field-weighted citation impact'].std())\n",
    "\n",
    "print('\\n')\n",
    "\n",
    "print('The number of citations per female middle-author papers is :', female_other['# of citations'].mean(), ' +/- ', female_other['# of citations'].std())\n",
    "print('Field-weighted citation impact score for female middle-author papers is :', female_other['Field-weighted citation impact'].mean(), ' +/- ', female_other['Field-weighted citation impact'].std())\n",
    "\n",
    "print('\\n')\n",
    "\n",
    "print('The number of citations per male middle-author papers is :', male_other['# of citations'].mean(), ' +/- ', male_other['# of citations'].std())\n",
    "print('Field-weighted citation impact score for male middle-author papers is :', male_other['Field-weighted citation impact'].mean(), ' +/- ', male_other['Field-weighted citation impact'].std())\n",
    "\n",
    "\n",
    "##"
   ]
  },
  {
   "cell_type": "code",
   "execution_count": 10,
   "metadata": {},
   "outputs": [
    {
     "data": {
      "text/plain": [
       "Text(0.5, 1.0, '# of citations per first or last author papers')"
      ]
     },
     "execution_count": 10,
     "metadata": {},
     "output_type": "execute_result"
    },
    {
     "data": {
      "image/png": "[encoded data removed]",
      "text/plain": [
       "<Figure size 432x288 with 1 Axes>"
      ]
     },
     "metadata": {
      "needs_background": "light"
     },
     "output_type": "display_data"
    }
   ],
   "source": [
    "# number of citations per first author paper\n",
    "\n",
    "mpl.rcParams['axes.spines.left'] = True\n",
    "mpl.rcParams['axes.spines.right'] = False\n",
    "mpl.rcParams['axes.spines.top'] = False\n",
    "mpl.rcParams['axes.spines.bottom'] = True\n",
    "\n",
    "averages = ('female', 'male')\n",
    "height = [female_citations_avg, male_citations_avg]\n",
    "y_pos = np.arange(len(averages))\n",
    "\n",
    "barlist = plt.bar(y_pos, height, align='center', alpha=1.0, width=0.6)\n",
    "barlist[0].set_color('pink')\n",
    "plt.ylim([0,60])\n",
    "plt.xticks(y_pos, averages)\n",
    "plt.ylabel('# of citations')\n",
    "plt.title('# of citations per first or last author papers')\n",
    "\n",
    "# plt.savefig(\"../figures/first-author-citations.pdf\", bbox_inches='tight')"
   ]
  },
  {
   "cell_type": "code",
   "execution_count": 11,
   "metadata": {},
   "outputs": [
    {
     "data": {
      "text/plain": [
       "Text(0.5, 1.0, '# of citations per middle author papers')"
      ]
     },
     "execution_count": 11,
     "metadata": {},
     "output_type": "execute_result"
    },
    {
     "data": {
      "image/png": "[encoded data removed]",
      "text/plain": [
       "<Figure size 432x288 with 1 Axes>"
      ]
     },
     "metadata": {
      "needs_background": "light"
     },
     "output_type": "display_data"
    }
   ],
   "source": [
    "# number of citations per first author paper\n",
    "\n",
    "mpl.rcParams['axes.spines.left'] = True\n",
    "mpl.rcParams['axes.spines.right'] = False\n",
    "mpl.rcParams['axes.spines.top'] = False\n",
    "mpl.rcParams['axes.spines.bottom'] = True\n",
    "\n",
    "averages = ('female', 'male')\n",
    "height = [female_citations_other_avg, male_citations_other_avg]\n",
    "y_pos = np.arange(len(averages))\n",
    "\n",
    "barlist = plt.bar(y_pos, height, align='center', alpha=1.0, width=0.6)\n",
    "barlist[0].set_color('pink')\n",
    "plt.ylim([0,60])\n",
    "plt.xticks(y_pos, averages)\n",
    "plt.ylabel('# of citations')\n",
    "plt.title('# of citations per middle author papers')\n",
    "\n",
    "# plt.savefig(\"../figures/middle-author-citations.pdf\", bbox_inches='tight')"
   ]
  },
  {
   "cell_type": "code",
   "execution_count": 13,
   "metadata": {},
   "outputs": [
    {
     "data": {
      "text/plain": [
       "Text(0.5, 1.0, 'Field-weighted citation impact score \\n per first or last author papers')"
      ]
     },
     "execution_count": 13,
     "metadata": {},
     "output_type": "execute_result"
    },
    {
     "data": {
      "image/png": "[encoded data removed]",
      "text/plain": [
       "<Figure size 432x288 with 1 Axes>"
      ]
     },
     "metadata": {
      "needs_background": "light"
     },
     "output_type": "display_data"
    }
   ],
   "source": [
    "# impact factor per first author paper \n",
    "\n",
    "mpl.rcParams['axes.spines.left'] = True\n",
    "mpl.rcParams['axes.spines.right'] = False\n",
    "mpl.rcParams['axes.spines.top'] = False\n",
    "mpl.rcParams['axes.spines.bottom'] = True\n",
    "\n",
    "impact = ('female', 'male')\n",
    "height = [female_impact_avg, male_impact_avg]\n",
    "y_pos = np.arange(len(averages))\n",
    "\n",
    "barlist = plt.bar(y_pos, height, align='center', alpha=1.0, width=0.6)\n",
    "barlist[0].set_color('pink')\n",
    "plt.ylim([0,3])\n",
    "plt.xticks(y_pos, impact)\n",
    "plt.ylabel('Field-weighted citation impact score')\n",
    "plt.title('Field-weighted citation impact score \\n per first or last author papers')\n",
    "\n",
    "# plt.savefig(\"../figures/first-author-impact.pdf\", bbox_inches='tight')"
   ]
  },
  {
   "cell_type": "code",
   "execution_count": 14,
   "metadata": {},
   "outputs": [
    {
     "data": {
      "text/plain": [
       "Text(0.5, 1.0, 'Field-weighted citation impact score \\n per middle author papers')"
      ]
     },
     "execution_count": 14,
     "metadata": {},
     "output_type": "execute_result"
    },
    {
     "data": {
      "image/png": "[encoded data removed]",
      "text/plain": [
       "<Figure size 432x288 with 1 Axes>"
      ]
     },
     "metadata": {
      "needs_background": "light"
     },
     "output_type": "display_data"
    }
   ],
   "source": [
    "# impact factor per first author paper \n",
    "\n",
    "mpl.rcParams['axes.spines.left'] = True\n",
    "mpl.rcParams['axes.spines.right'] = False\n",
    "mpl.rcParams['axes.spines.top'] = False\n",
    "mpl.rcParams['axes.spines.bottom'] = True\n",
    "\n",
    "impact = ('female', 'male')\n",
    "height = [female_impact_other_avg, male_impact_other_avg]\n",
    "y_pos = np.arange(len(averages))\n",
    "\n",
    "barlist = plt.bar(y_pos, height, align='center', alpha=1.0, width=0.6)\n",
    "barlist[0].set_color('pink')\n",
    "plt.ylim([0,3])\n",
    "plt.xticks(y_pos, impact)\n",
    "plt.ylabel('Field-weighted citation impact score')\n",
    "plt.title('Field-weighted citation impact score \\n per middle author papers')\n",
    "\n",
    "# plt.savefig(\"../figures/middle-author-impact.pdf\", bbox_inches='tight')"
   ]
  }
 ],
 "metadata": {
  "kernelspec": {
   "display_name": "Python 3",
   "language": "python",
   "name": "python3"
  },
  "language_info": {
   "codemirror_mode": {
    "name": "ipython",
    "version": 3
   },
   "file_extension": ".py",
   "mimetype": "text/x-python",
   "name": "python",
   "nbconvert_exporter": "python",
   "pygments_lexer": "ipython3",
   "version": "3.6.8"
  }
 },
 "nbformat": 4,
 "nbformat_minor": 2
}
