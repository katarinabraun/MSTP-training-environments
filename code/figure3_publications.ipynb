{
 "cells": [
  {
   "cell_type": "markdown",
   "metadata": {},
   "source": [
    "# Figure 3: Number of publications by male and female MSTP students \n",
    "\n",
    "This notebook uses Python3 and imports all necessary dependencies as it is run. \n",
    "\n",
    "**Input**: Takes in the raw datafile entitled \"publications_raw_data\" in the `data` directory.   \n",
    "**Output**: Saves a PDF of figure 3 to `figures` directory. "
   ]
  },
  {
   "cell_type": "code",
   "execution_count": 17,
   "metadata": {},
   "outputs": [],
   "source": [
    "import pandas as pd \n",
    "import numpy as np\n",
    "import matplotlib.pyplot as plt\n",
    "import matplotlib as mpl\n",
    "import scipy.stats as scs\n",
    "from scipy.stats import chi2_contingency"
   ]
  },
  {
   "cell_type": "code",
   "execution_count": 2,
   "metadata": {},
   "outputs": [],
   "source": [
    "# import raw data into a Pandas dataframe \n",
    "pub_DF = pd.read_csv('../data/publications_raw_data.csv') # this path may need to be updated depending on where you running this script from and where you have the raw datafile saved\n",
    "pub_DF.rename(columns={'male ID':'male_ID', 'Total Pubs':'total_pubs_male', 'First Author':'first_author_male', 'female ID':'female_ID', 'Total Pubs.1':'total_pubs_female', 'First Author.1':'first_author_female'}, inplace=True)\n",
    "male_pubs = pub_DF[['male_ID', 'total_pubs_male', 'first_author_male']]\n",
    "female_pubs = pub_DF[['female_ID', 'total_pubs_female', 'first_author_female']]\n",
    "female_pubs = female_pubs.dropna()\n",
    "\n",
    "# convert all datatypes to ints\n",
    "male_pubs = male_pubs.astype(int)\n",
    "female_pubs = female_pubs.astype(int)\n",
    "\n",
    "# uncomment this to print the dataframes\n",
    "# male_pubs\n",
    "# female_pubs"
   ]
  },
  {
   "cell_type": "code",
   "execution_count": 3,
   "metadata": {},
   "outputs": [
    {
     "name": "stdout",
     "output_type": "stream",
     "text": [
      "Average total pubs from male students (std):  6.949 ( 4.616 )\n",
      "Average total pubs from female students (std):  5.709 ( 4.825 )\n",
      "\n",
      "\n",
      "Average first-author pubs from male students (std):  3.329 ( 2.194 )\n",
      "Average total pubs from female students (std):  2.709 ( 2.432 )\n"
     ]
    }
   ],
   "source": [
    "# determine the average + SD first and total publications for men and women \n",
    "\n",
    "# total pubs\n",
    "avg_total_male = male_pubs['total_pubs_male'].mean()\n",
    "std_total_male = male_pubs['total_pubs_male'].std()\n",
    "avg_total_female = female_pubs['total_pubs_female'].mean()\n",
    "std_total_female = female_pubs['total_pubs_female'].std()\n",
    "\n",
    "# first author pubs \n",
    "avg_first_male = male_pubs['first_author_male'].mean()\n",
    "std_first_male = male_pubs['first_author_male'].std()\n",
    "avg_first_female = female_pubs['first_author_female'].mean()\n",
    "std_first_female = female_pubs['first_author_female'].std()\n",
    "\n",
    "# print below\n",
    "print(\"Average total pubs from male students (std): \", round(avg_total_male, 3), \"(\", round(std_total_male, 3),\")\")\n",
    "print(\"Average total pubs from female students (std): \", round(avg_total_female, 3), \"(\", round(std_total_female, 3),\")\")\n",
    "print(\"\\n\")\n",
    "print(\"Average first-author pubs from male students (std): \", round(avg_first_male, 3), \"(\", round(std_first_male, 3),\")\")\n",
    "print(\"Average total pubs from female students (std): \", round(avg_first_female, 3), \"(\", round(std_first_female, 3),\")\")\n"
   ]
  },
  {
   "cell_type": "code",
   "execution_count": 4,
   "metadata": {
    "scrolled": true
   },
   "outputs": [
    {
     "name": "stdout",
     "output_type": "stream",
     "text": [
      "                   avg       std gender\n",
      "total male    6.949367  4.615744      m\n",
      "total female  5.709091  4.825368      f\n",
      "first male    3.329114  2.193940      m\n",
      "first female  2.709091  2.431832      f\n"
     ]
    },
    {
     "data": {
      "image/png": "[encoded data removed]",
      "text/plain": [
       "<Figure size 432x288 with 1 Axes>"
      ]
     },
     "metadata": {
      "needs_background": "light"
     },
     "output_type": "display_data"
    }
   ],
   "source": [
    "# set plot basic parameters\n",
    "axes = plt.gca()\n",
    "mpl.rcParams['axes.spines.left'] = True\n",
    "mpl.rcParams['axes.spines.right'] = False\n",
    "mpl.rcParams['axes.spines.top'] = False\n",
    "mpl.rcParams['axes.spines.bottom'] = True\n",
    "\n",
    "# generate new dataframes with the averages and standard deviations derived above \n",
    "avg = pd.DataFrame([[avg_total_male, avg_total_female, avg_first_male, avg_first_female]], columns=['total male', 'total female', 'first male', 'first female'])\n",
    "std = pd.DataFrame([[std_total_male, std_total_female, std_first_male, std_first_female]], columns=['total male', 'total female', 'first male', 'first female'])\n",
    "avg = avg.T\n",
    "std = std.T\n",
    "fig = pd.concat([avg, std], axis=1)\n",
    "fig.columns = ['avg', 'std']\n",
    "fig.insert(2, \"gender\", [\"m\", \"f\", \"m\", \"f\"], True)\n",
    "fig_grouped = fig[['avg', 'gender']]\n",
    "# fig_grouped = fig_grouped.groupby([\"gender\"])\n",
    "fig2 = fig[['std']]\n",
    "std_total = fig2.loc[['total male', 'total female']]\n",
    "std_first = fig2.loc[['first male', 'first female']]\n",
    "\n",
    "print(fig)\n",
    "\n",
    "# set width of bar\n",
    "barWidth = 0.4\n",
    " \n",
    "# set height of bar\n",
    "male = [avg_total_male, avg_first_male]\n",
    "female = [avg_total_female, avg_first_female]\n",
    " \n",
    "# Set position of bar on X axis\n",
    "r1 = np.arange(len(male))\n",
    "r2 = [x + barWidth for x in r1]\n",
    " \n",
    "# Make the plot\n",
    "plt.bar(r1, male, yerr=std_total['std'], ecolor='#000000', capsize=4, color='#000000', width=barWidth, edgecolor='white', label='male')\n",
    "plt.bar(r2, female, yerr=std_first['std'], ecolor='#B3B3B3', capsize=4, color='#B3B3B3', width=barWidth, edgecolor='white', label='female')\n",
    "\n",
    "# Set axis limits\n",
    "axes.set_ylim([0,12])\n",
    " \n",
    "# Add xticks on the middle of the group bars\n",
    "plt.ylabel('Count', fontsize=12)\n",
    "plt.xticks([r + barWidth/2 for r in range(2)], ['Total pubs', 'First author pubs'], fontsize=12)\n",
    " \n",
    "# Create legend & Show graphic\n",
    "plt.legend(fontsize=12, frameon=False, bbox_to_anchor=(1.3, 1))\n",
    "\n",
    "# Save plot as a PDF\n",
    "plt.savefig('../figures/figure3_publications_by_gender.pdf', dpi=300, transparent=True, bbox_inches='tight')\n",
    "\n",
    "#"
   ]
  },
  {
   "cell_type": "code",
   "execution_count": 42,
   "metadata": {},
   "outputs": [
    {
     "name": "stdout",
     "output_type": "stream",
     "text": [
      "**There is no signicant relationship between gender and number of first authors publications**: \n",
      " (82.33099432536773, 0.7049288117923669, 90, array([[1.51898734, 1.82278481, 6.98734177, 5.16455696, 3.34177215,\n",
      "        0.91139241, 1.82278481, 0.60759494, 0.91139241, 0.91139241],\n",
      "       [0.37974684, 0.4556962 , 1.74683544, 1.29113924, 0.83544304,\n",
      "        0.2278481 , 0.4556962 , 0.15189873, 0.2278481 , 0.2278481 ],\n",
      "       [0.82278481, 0.98734177, 3.78481013, 2.79746835, 1.81012658,\n",
      "        0.49367089, 0.98734177, 0.32911392, 0.49367089, 0.49367089],\n",
      "       [0.06329114, 0.07594937, 0.29113924, 0.21518987, 0.13924051,\n",
      "        0.03797468, 0.07594937, 0.02531646, 0.03797468, 0.03797468],\n",
      "       [0.88607595, 1.06329114, 4.07594937, 3.01265823, 1.94936709,\n",
      "        0.53164557, 1.06329114, 0.35443038, 0.53164557, 0.53164557],\n",
      "       [0.3164557 , 0.37974684, 1.4556962 , 1.07594937, 0.69620253,\n",
      "        0.18987342, 0.37974684, 0.12658228, 0.18987342, 0.18987342],\n",
      "       [0.50632911, 0.60759494, 2.32911392, 1.72151899, 1.11392405,\n",
      "        0.30379747, 0.60759494, 0.20253165, 0.30379747, 0.30379747],\n",
      "       [0.25316456, 0.30379747, 1.16455696, 0.86075949, 0.55696203,\n",
      "        0.15189873, 0.30379747, 0.10126582, 0.15189873, 0.15189873],\n",
      "       [0.12658228, 0.15189873, 0.58227848, 0.43037975, 0.27848101,\n",
      "        0.07594937, 0.15189873, 0.05063291, 0.07594937, 0.07594937],\n",
      "       [0.06329114, 0.07594937, 0.29113924, 0.21518987, 0.13924051,\n",
      "        0.03797468, 0.07594937, 0.02531646, 0.03797468, 0.03797468],\n",
      "       [0.06329114, 0.07594937, 0.29113924, 0.21518987, 0.13924051,\n",
      "        0.03797468, 0.07594937, 0.02531646, 0.03797468, 0.03797468]])) \n",
      "\n",
      "**There is no signicant relationship between gender and number of total publications**: \n",
      " (250.2831065759637, 0.3109551613345478, 240, array([[0.30379747, 0.30379747, 2.12658228, 1.82278481, 2.73417722,\n",
      "        4.55696203, 2.12658228, 1.82278481, 0.91139241, 2.12658228,\n",
      "        1.21518987, 0.91139241, 0.60759494, 0.60759494, 0.91139241,\n",
      "        0.30379747, 0.60759494],\n",
      "       [0.02531646, 0.02531646, 0.17721519, 0.15189873, 0.2278481 ,\n",
      "        0.37974684, 0.17721519, 0.15189873, 0.07594937, 0.17721519,\n",
      "        0.10126582, 0.07594937, 0.05063291, 0.05063291, 0.07594937,\n",
      "        0.02531646, 0.05063291],\n",
      "       [0.05063291, 0.05063291, 0.35443038, 0.30379747, 0.4556962 ,\n",
      "        0.75949367, 0.35443038, 0.30379747, 0.15189873, 0.35443038,\n",
      "        0.20253165, 0.15189873, 0.10126582, 0.10126582, 0.15189873,\n",
      "        0.05063291, 0.10126582],\n",
      "       [0.01265823, 0.01265823, 0.08860759, 0.07594937, 0.11392405,\n",
      "        0.18987342, 0.08860759, 0.07594937, 0.03797468, 0.08860759,\n",
      "        0.05063291, 0.03797468, 0.02531646, 0.02531646, 0.03797468,\n",
      "        0.01265823, 0.02531646],\n",
      "       [0.02531646, 0.02531646, 0.17721519, 0.15189873, 0.2278481 ,\n",
      "        0.37974684, 0.17721519, 0.15189873, 0.07594937, 0.17721519,\n",
      "        0.10126582, 0.07594937, 0.05063291, 0.05063291, 0.07594937,\n",
      "        0.02531646, 0.05063291],\n",
      "       [0.02531646, 0.02531646, 0.17721519, 0.15189873, 0.2278481 ,\n",
      "        0.37974684, 0.17721519, 0.15189873, 0.07594937, 0.17721519,\n",
      "        0.10126582, 0.07594937, 0.05063291, 0.05063291, 0.07594937,\n",
      "        0.02531646, 0.05063291],\n",
      "       [0.01265823, 0.01265823, 0.08860759, 0.07594937, 0.11392405,\n",
      "        0.18987342, 0.08860759, 0.07594937, 0.03797468, 0.08860759,\n",
      "        0.05063291, 0.03797468, 0.02531646, 0.02531646, 0.03797468,\n",
      "        0.01265823, 0.02531646],\n",
      "       [0.07594937, 0.07594937, 0.53164557, 0.4556962 , 0.6835443 ,\n",
      "        1.13924051, 0.53164557, 0.4556962 , 0.2278481 , 0.53164557,\n",
      "        0.30379747, 0.2278481 , 0.15189873, 0.15189873, 0.2278481 ,\n",
      "        0.07594937, 0.15189873],\n",
      "       [0.02531646, 0.02531646, 0.17721519, 0.15189873, 0.2278481 ,\n",
      "        0.37974684, 0.17721519, 0.15189873, 0.07594937, 0.17721519,\n",
      "        0.10126582, 0.07594937, 0.05063291, 0.05063291, 0.07594937,\n",
      "        0.02531646, 0.05063291],\n",
      "       [0.10126582, 0.10126582, 0.70886076, 0.60759494, 0.91139241,\n",
      "        1.51898734, 0.70886076, 0.60759494, 0.30379747, 0.70886076,\n",
      "        0.40506329, 0.30379747, 0.20253165, 0.20253165, 0.30379747,\n",
      "        0.10126582, 0.20253165],\n",
      "       [0.08860759, 0.08860759, 0.62025316, 0.53164557, 0.79746835,\n",
      "        1.32911392, 0.62025316, 0.53164557, 0.26582278, 0.62025316,\n",
      "        0.35443038, 0.26582278, 0.17721519, 0.17721519, 0.26582278,\n",
      "        0.08860759, 0.17721519],\n",
      "       [0.08860759, 0.08860759, 0.62025316, 0.53164557, 0.79746835,\n",
      "        1.32911392, 0.62025316, 0.53164557, 0.26582278, 0.62025316,\n",
      "        0.35443038, 0.26582278, 0.17721519, 0.17721519, 0.26582278,\n",
      "        0.08860759, 0.17721519],\n",
      "       [0.08860759, 0.08860759, 0.62025316, 0.53164557, 0.79746835,\n",
      "        1.32911392, 0.62025316, 0.53164557, 0.26582278, 0.62025316,\n",
      "        0.35443038, 0.26582278, 0.17721519, 0.17721519, 0.26582278,\n",
      "        0.08860759, 0.17721519],\n",
      "       [0.03797468, 0.03797468, 0.26582278, 0.2278481 , 0.34177215,\n",
      "        0.56962025, 0.26582278, 0.2278481 , 0.11392405, 0.26582278,\n",
      "        0.15189873, 0.11392405, 0.07594937, 0.07594937, 0.11392405,\n",
      "        0.03797468, 0.07594937],\n",
      "       [0.02531646, 0.02531646, 0.17721519, 0.15189873, 0.2278481 ,\n",
      "        0.37974684, 0.17721519, 0.15189873, 0.07594937, 0.17721519,\n",
      "        0.10126582, 0.07594937, 0.05063291, 0.05063291, 0.07594937,\n",
      "        0.02531646, 0.05063291],\n",
      "       [0.01265823, 0.01265823, 0.08860759, 0.07594937, 0.11392405,\n",
      "        0.18987342, 0.08860759, 0.07594937, 0.03797468, 0.08860759,\n",
      "        0.05063291, 0.03797468, 0.02531646, 0.02531646, 0.03797468,\n",
      "        0.01265823, 0.02531646]]))\n"
     ]
    }
   ],
   "source": [
    "# testing significance using a chi-square test of independence \n",
    "\n",
    "def chisq_of_df_cols(df, c1, c2):\n",
    "    groupsizes = df.groupby([c1, c2]).size()\n",
    "    ctsum = groupsizes.unstack(c1)\n",
    "#     fillna(0) is necessary to remove any NAs which will cause exceptions\n",
    "    return(chi2_contingency(ctsum.fillna(0)))\n",
    "\n",
    "# The first value is the Chi-square value, followed by the p-value, and finally the degrees of freedom\n",
    "# This also outputs the expected frequencies in an array \n",
    "print(\"**There is no significant relationship between gender and number of first authors publications**: \\n\", chisq_of_df_cols(pub_DF, 'first_author_male', 'first_author_female'), '\\n')\n",
    "\n",
    "print(\"**There is no significant relationship between gender and number of total publications**: \\n\", chisq_of_df_cols(pub_DF, 'total_pubs_male', 'total_pubs_female'))\n",
    "\n",
    "##"
   ]
  },
  {
   "cell_type": "code",
   "execution_count": null,
   "metadata": {},
   "outputs": [],
   "source": []
  }
 ],
 "metadata": {
  "kernelspec": {
   "display_name": "Python 3",
   "language": "python",
   "name": "python3"
  },
  "language_info": {
   "codemirror_mode": {
    "name": "ipython",
    "version": 3
   },
   "file_extension": ".py",
   "mimetype": "text/x-python",
   "name": "python",
   "nbconvert_exporter": "python",
   "pygments_lexer": "ipython3",
   "version": "3.6.8"
  }
 },
 "nbformat": 4,
 "nbformat_minor": 2
}
