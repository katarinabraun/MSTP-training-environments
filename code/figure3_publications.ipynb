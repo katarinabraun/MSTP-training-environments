{
 "cells": [
  {
   "cell_type": "markdown",
   "metadata": {},
   "source": [
    "# Figure 3: Number of publications by male and female MSTP students \n",
    "\n",
    "This notebook uses Python3 and imports all necessary dependencies as it is run. \n",
    "\n",
    "**Input**: Takes in the raw datafile entitled \"publications_raw_data\" in the `data` directory.   \n",
    "**Output**: Saves a PDF of figure 3 to `figures` directory. "
   ]
  },
  {
   "cell_type": "code",
   "execution_count": 2,
   "metadata": {},
   "outputs": [],
   "source": [
    "import pandas as pd \n",
    "import numpy as np\n",
    "import matplotlib.pyplot as plt\n",
    "import matplotlib as mpl\n",
    "import scipy.stats as scs\n",
    "from scipy.stats import chi2_contingency\n",
    "import scipy"
   ]
  },
  {
   "cell_type": "code",
   "execution_count": 3,
   "metadata": {},
   "outputs": [],
   "source": [
    "# import raw data into a Pandas dataframe \n",
    "pub_DF = pd.read_csv('../data/publications_raw_data.csv') # this path may need to be updated depending on where you running this script from and where you have the raw datafile saved\n",
    "pub_DF.rename(columns={'male ID':'male_ID', 'Total Pubs':'total_pubs_male', 'First Author':'first_author_male', 'female ID':'female_ID', 'Total Pubs.1':'total_pubs_female', 'First Author.1':'first_author_female'}, inplace=True)\n",
    "male_pubs = pub_DF[['male_ID', 'total_pubs_male', 'first_author_male']]\n",
    "female_pubs = pub_DF[['female_ID', 'total_pubs_female', 'first_author_female']]\n",
    "female_pubs = female_pubs.dropna()\n",
    "\n",
    "# convert all datatypes to ints\n",
    "male_pubs = male_pubs.astype(int)\n",
    "female_pubs = female_pubs.astype(int)\n",
    "\n",
    "# uncomment this to print the dataframes\n",
    "# male_pubs\n",
    "# female_pubs"
   ]
  },
  {
   "cell_type": "code",
   "execution_count": 4,
   "metadata": {},
   "outputs": [
    {
     "name": "stdout",
     "output_type": "stream",
     "text": [
      "Average total pubs from male students (std):  6.949 ( 4.616 )\n",
      "Average total pubs from female students (std):  5.709 ( 4.825 )\n",
      "\n",
      "\n",
      "Average first-author pubs from male students (std):  3.329 ( 2.194 )\n",
      "Average total pubs from female students (std):  2.709 ( 2.432 )\n"
     ]
    }
   ],
   "source": [
    "# determine the average + SD first and total publications for men and women \n",
    "\n",
    "# total pubs\n",
    "avg_total_male = male_pubs['total_pubs_male'].mean()\n",
    "std_total_male = male_pubs['total_pubs_male'].std()\n",
    "avg_total_female = female_pubs['total_pubs_female'].mean()\n",
    "std_total_female = female_pubs['total_pubs_female'].std()\n",
    "\n",
    "# first author pubs \n",
    "avg_first_male = male_pubs['first_author_male'].mean()\n",
    "std_first_male = male_pubs['first_author_male'].std()\n",
    "avg_first_female = female_pubs['first_author_female'].mean()\n",
    "std_first_female = female_pubs['first_author_female'].std()\n",
    "\n",
    "# print below\n",
    "print(\"Average total pubs from male students (std): \", round(avg_total_male, 3), \"(\", round(std_total_male, 3),\")\")\n",
    "print(\"Average total pubs from female students (std): \", round(avg_total_female, 3), \"(\", round(std_total_female, 3),\")\")\n",
    "print(\"\\n\")\n",
    "print(\"Average first-author pubs from male students (std): \", round(avg_first_male, 3), \"(\", round(std_first_male, 3),\")\")\n",
    "print(\"Average total pubs from female students (std): \", round(avg_first_female, 3), \"(\", round(std_first_female, 3),\")\")\n"
   ]
  },
  {
   "cell_type": "code",
   "execution_count": 12,
   "metadata": {
    "scrolled": true
   },
   "outputs": [
    {
     "name": "stdout",
     "output_type": "stream",
     "text": [
      "                   avg       std gender\n",
      "total male    6.949367  4.615744      m\n",
      "total female  5.709091  4.825368      f\n",
      "first male    3.329114  2.193940      m\n",
      "first female  2.709091  2.431832      f\n"
     ]
    },
    {
     "data": {
      "image/png": "[encoded data removed]",
      "text/plain": [
       "<Figure size 432x288 with 1 Axes>"
      ]
     },
     "metadata": {
      "needs_background": "light"
     },
     "output_type": "display_data"
    }
   ],
   "source": [
    "# set plot basic parameters\n",
    "ax = plt.gca()\n",
    "\n",
    "# set frame parameters\n",
    "ax.spines['top'].set_visible(False)\n",
    "ax.spines['right'].set_visible(False)\n",
    "ax.spines['bottom'].set_visible(True)\n",
    "ax.spines['left'].set_visible(True)\n",
    "\n",
    "# generate new dataframes with the averages and standard deviations derived above \n",
    "avg = pd.DataFrame([[avg_total_male, avg_total_female, avg_first_male, avg_first_female]], columns=['total male', 'total female', 'first male', 'first female'])\n",
    "std = pd.DataFrame([[std_total_male, std_total_female, std_first_male, std_first_female]], columns=['total male', 'total female', 'first male', 'first female'])\n",
    "avg = avg.T\n",
    "std = std.T\n",
    "fig = pd.concat([avg, std], axis=1)\n",
    "fig.columns = ['avg', 'std']\n",
    "fig.insert(2, \"gender\", [\"m\", \"f\", \"m\", \"f\"], True)\n",
    "fig_grouped = fig[['avg', 'gender']]\n",
    "# fig_grouped = fig_grouped.groupby([\"gender\"])\n",
    "fig2 = fig[['std']]\n",
    "std_total = fig2.loc[['total male', 'total female']]\n",
    "std_first = fig2.loc[['first male', 'first female']]\n",
    "\n",
    "print(fig)\n",
    "\n",
    "# set width of bar\n",
    "barWidth = 0.4\n",
    " \n",
    "# set height of bar\n",
    "male = [avg_total_male, avg_first_male]\n",
    "female = [avg_total_female, avg_first_female]\n",
    " \n",
    "# Set position of bar on X axis\n",
    "r1 = np.arange(len(male))\n",
    "r2 = [x + barWidth for x in r1]\n",
    " \n",
    "# Make the plot (without std dev error bars)\n",
    "plt.bar(r1, male, color='#000000', width=barWidth, edgecolor='white', label='male')\n",
    "plt.bar(r2, female, color='#B3B3B3', width=barWidth, edgecolor='white', label='female')\n",
    "\n",
    "# uncomment the following two lines to print the plot with std dev error bars \n",
    "# plt.bar(r1, male, yerr=std_total['std'], ecolor='#000000', capsize=4, color='#000000', width=barWidth, edgecolor='white', label='male')\n",
    "# plt.bar(r2, female, yerr=std_first['std'], ecolor='#B3B3B3', capsize=4, color='#B3B3B3', width=barWidth, edgecolor='white', label='female')\n",
    "\n",
    "# Set axis limits\n",
    "axes.set_ylim([0,12])\n",
    " \n",
    "# Add xticks on the middle of the group bars\n",
    "plt.ylabel('count', fontsize=12)\n",
    "plt.xticks([r + barWidth/2 for r in range(2)], ['Total pubs', 'First author pubs'], fontsize=12)\n",
    " \n",
    "# Create legend & Show graphic\n",
    "plt.legend(fontsize=12, frameon=False, bbox_to_anchor=(1.3, 1))\n",
    "\n",
    "# Save plot as a PDF\n",
    "plt.savefig('../figures/figure3_publications_by_gender.pdf', dpi=300, transparent=True, bbox_inches='tight')\n",
    "\n",
    "#"
   ]
  },
  {
   "cell_type": "code",
   "execution_count": null,
   "metadata": {},
   "outputs": [],
   "source": [
    "# Chi-test to compare groups can be found below\n",
    "# In the manuscript we decided to use a Quasipoisson GLM to evaluate groups so p-values here will not be found in the manuscript"
   ]
  },
  {
   "cell_type": "code",
   "execution_count": 6,
   "metadata": {},
   "outputs": [
    {
     "data": {
      "text/plain": [
       "Power_divergenceResult(statistic=7.59930628373196, pvalue=0.005839076297786292)"
      ]
     },
     "execution_count": 6,
     "metadata": {},
     "output_type": "execute_result"
    }
   ],
   "source": [
    "# chi-square test, goodness of fit \n",
    "# total publications \n",
    "\n",
    "observed_values=scipy.array([314,549])\n",
    "expected_values=scipy.array([353.83,509.17])\n",
    "\n",
    "scipy.stats.chisquare(observed_values, f_exp=expected_values)"
   ]
  },
  {
   "cell_type": "code",
   "execution_count": 7,
   "metadata": {},
   "outputs": [
    {
     "data": {
      "text/plain": [
       "Power_divergenceResult(statistic=3.9814895828734445, pvalue=0.046002864136408216)"
      ]
     },
     "execution_count": 7,
     "metadata": {},
     "output_type": "execute_result"
    }
   ],
   "source": [
    "# chi-square test, goodness of fit \n",
    "# first author publications \n",
    "\n",
    "observed_values=scipy.array([149,263])\n",
    "expected_values=scipy.array([168.92,243.08])\n",
    "\n",
    "scipy.stats.chisquare(observed_values, f_exp=expected_values)"
   ]
  },
  {
   "cell_type": "code",
   "execution_count": null,
   "metadata": {},
   "outputs": [],
   "source": []
  }
 ],
 "metadata": {
  "kernelspec": {
   "display_name": "Python 3",
   "language": "python",
   "name": "python3"
  },
  "language_info": {
   "codemirror_mode": {
    "name": "ipython",
    "version": 3
   },
   "file_extension": ".py",
   "mimetype": "text/x-python",
   "name": "python",
   "nbconvert_exporter": "python",
   "pygments_lexer": "ipython3",
   "version": "3.6.8"
  }
 },
 "nbformat": 4,
 "nbformat_minor": 2
}
