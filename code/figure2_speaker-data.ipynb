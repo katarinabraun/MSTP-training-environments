{
 "cells": [
  {
   "cell_type": "markdown",
   "metadata": {},
   "source": [
    "# Figure 2: Student and faculty speakers at MSTP Symposium\n",
    "\n",
    "This notebook uses Python3 and imports all necessary dependencies as it is run. \n",
    "\n",
    "**Input**: Takes in the raw datafile entitled \"speakers_raw_data.csv\" in the `data` directory.  \n",
    "**Output**: Saves a PDF of figure 2 to `figures` directory. "
   ]
  },
  {
   "cell_type": "code",
   "execution_count": 2,
   "metadata": {},
   "outputs": [],
   "source": [
    "import pandas as pd \n",
    "import numpy as np\n",
    "import matplotlib.pyplot as plt\n",
    "import matplotlib as mpl\n",
    "from pylab import rcParams"
   ]
  },
  {
   "cell_type": "code",
   "execution_count": 3,
   "metadata": {},
   "outputs": [],
   "source": [
    "# import raw data into a Pandas dataframe \n",
    "DF = pd.read_csv('../data/speakers_raw_data.csv') # this path may need to be updated depending on where you running this script from and where you have the raw datafile saved\n",
    "DF.rename(columns={'AY':'academic year'}, inplace=True)\n",
    "\n",
    "# uncomment this to print the dataframe\n",
    "# DF"
   ]
  },
  {
   "cell_type": "code",
   "execution_count": 4,
   "metadata": {},
   "outputs": [
    {
     "name": "stdout",
     "output_type": "stream",
     "text": [
      "Average female student speakers (std):  0.064 ( 0.065 )\n",
      "Average male student speakers (std):  0.058 ( 0.038 )\n",
      "\n",
      "\n",
      "Average female faculty speakers (std):  0.273 ( 0.55 )\n",
      "Average male faculty speakers (std):  1.091 ( 1.875 )\n",
      "\n",
      "\n",
      "Average female keynote speakers (std):  0.182 ( 0.395 )\n",
      "Average male keynote speakers (std):  0.727 ( 0.456 )\n"
     ]
    }
   ],
   "source": [
    "# determine the average + SD student, faculty, and keynote speakers \n",
    "\n",
    "# students\n",
    "avg_fstudent = DF['female_student'].mean()\n",
    "std_fstudent = DF['female_student'].std()\n",
    "avg_mstudent = DF['male_student'].mean()\n",
    "std_mstudent = DF['male_student'].std()\n",
    "\n",
    "# faculty\n",
    "avg_ffaculty = DF['female_faculty'].mean()\n",
    "std_ffaculty = DF['female_faculty'].std()\n",
    "avg_mfaculty = DF['male_faculty'].mean()\n",
    "std_mfaculty = DF['male_faculty'].std()\n",
    "\n",
    "# keynotes\n",
    "avg_fkeynote = DF['female_keynote'].mean()\n",
    "std_fkeynote = DF['female_keynote'].std()\n",
    "avg_mkeynote = DF['male_keynote'].mean()\n",
    "std_mkeynote = DF['male_keynote'].std()\n",
    "\n",
    "# print below\n",
    "print(\"Average female student speakers (std): \", round(avg_fstudent, 3), \"(\", round(std_fstudent, 3),\")\")\n",
    "print(\"Average male student speakers (std): \", round(avg_mstudent, 3), \"(\", round(std_mstudent, 3),\")\")\n",
    "print(\"\\n\")\n",
    "print(\"Average female faculty speakers (std): \", round(avg_ffaculty, 3), \"(\", round(std_ffaculty, 3),\")\")\n",
    "print(\"Average male faculty speakers (std): \", round(avg_mfaculty, 3), \"(\", round(std_mfaculty, 3),\")\")\n",
    "print(\"\\n\")\n",
    "print(\"Average female keynote speakers (std): \", round(avg_fkeynote, 3), \"(\", round(std_fkeynote, 3),\")\")\n",
    "print(\"Average male keynote speakers (std): \", round(avg_mkeynote, 3), \"(\", round(std_mkeynote, 3),\")\")\n"
   ]
  },
  {
   "cell_type": "code",
   "execution_count": 5,
   "metadata": {},
   "outputs": [
    {
     "data": {
      "image/png": "[encoded data removed]",
      "text/plain": [
       "<Figure size 864x216 with 3 Axes>"
      ]
     },
     "metadata": {
      "needs_background": "light"
     },
     "output_type": "display_data"
    }
   ],
   "source": [
    "# generate new dataframes from the above averages and std devs \n",
    "data = [['fstudent', avg_fstudent, std_fstudent], ['mstudent', avg_mstudent, std_mstudent], ['ffaculty', avg_ffaculty, std_ffaculty], ['mfaculty', avg_mfaculty, std_mfaculty], ['fkeynote', avg_fkeynote, std_fkeynote], ['mkeynote', avg_mkeynote, std_mkeynote]]\n",
    "fig = pd.DataFrame(data, columns = ['category', 'average', 'std_dev'])\n",
    "\n",
    "student = fig.loc[[0,1]]\n",
    "student['category'] = student['category'].replace({'fstudent' : 'Female', 'mstudent' : 'Male'}, regex=True)\n",
    "\n",
    "faculty = fig.loc[[2,3]]\n",
    "faculty['category'] = faculty['category'].replace({'ffaculty' : 'Female', 'mfaculty' : 'Male'}, regex=True)\n",
    "\n",
    "keynote = fig.loc[[4,5]]\n",
    "keynote['category'] = keynote['category'].replace({'fkeynote' : 'Female', 'mkeynote' : 'Male'}, regex=True)\n",
    "\n",
    "mpl.rcParams['axes.spines.left'] = True\n",
    "mpl.rcParams['axes.spines.right'] = False\n",
    "mpl.rcParams['axes.spines.top'] = False\n",
    "mpl.rcParams['axes.spines.bottom'] = True\n",
    "\n",
    "f, (ax1, ax2, ax3) = plt.subplots(ncols=3, figsize=(12,3))\n",
    "f.subplots_adjust(wspace=0.3)\n",
    "\n",
    "error1 = [std_fstudent, std_mstudent]\n",
    "colors1 = ['#B3B3B3','#000000']\n",
    "ecolors1 = ['#B3B3B3','#000000']\n",
    "ax1 = student.plot.bar(x='category', y='average', yerr=error1, ecolor=ecolors1, ax=ax1, color=colors1, title='Symposium student speakers \\n (1997-98 - 2018-19)', legend=False)\n",
    "ax1.set_ylim([0, 0.15])\n",
    "ax1.set_ylabel('% Speakers', fontsize=12)\n",
    "ax1.set_xlabel('')\n",
    "ax1.tick_params(labelrotation=0)\n",
    "ax1.set_yticks(ax1.get_yticks()[::2])\n",
    "\n",
    "error2 = [std_ffaculty, std_mfaculty]\n",
    "colors2 = ['#B3B3B3','#000000']\n",
    "ecolors2 = ['#B3B3B3','#000000']\n",
    "ax2 = faculty.plot.bar(x='category', y='average', yerr=error2, ecolor=ecolors2, ax=ax2, color=colors2, title='Symposium faculty speakers \\n (1997-98 - 2018-19)', legend=False)\n",
    "ax2.set_ylim([0, 4])\n",
    "ax2.set_ylabel('Average Speakers', fontsize=12)\n",
    "ax2.set_xlabel('')\n",
    "ax2.tick_params(labelrotation=0)\n",
    "ax2.set_yticks(ax2.get_yticks()[::2])\n",
    "\n",
    "error3 = [std_fkeynote, std_mkeynote]\n",
    "colors3 = ['#B3B3B3','#000000']\n",
    "ecolors3 = ['#B3B3B3','#000000']\n",
    "ax3 = keynote.plot.bar(x='category', y='average', yerr=error3, ecolor=ecolors3, ax=ax3, color=colors3, title='Symposium keynote speakers \\n (1997-98 - 2018-19)', legend=False)\n",
    "ax3.set_ylim([0, 1.6])\n",
    "ax3.set_ylabel('Average Speakers', fontsize=12)\n",
    "ax3.set_xlabel('')\n",
    "ax3.tick_params(labelrotation=0)\n",
    "ax3.set_yticks(ax3.get_yticks()[::2])\n",
    "\n",
    "plt.text(-5,1,'p = 0.50') # updated as of Dec, 2019 \n",
    "plt.text(-2.4,1,'p = 0.001')\n",
    "plt.text(0.2,1,'p = 0.00036')\n",
    "\n",
    "# Save plot as a PDF\n",
    "plt.savefig('../figures/figure2_speakers-by-gender.pdf', dpi=300, transparent=True, bbox_inches='tight')\n"
   ]
  },
  {
   "cell_type": "code",
   "execution_count": null,
   "metadata": {},
   "outputs": [],
   "source": []
  }
 ],
 "metadata": {
  "kernelspec": {
   "display_name": "Python 3",
   "language": "python",
   "name": "python3"
  },
  "language_info": {
   "codemirror_mode": {
    "name": "ipython",
    "version": 3
   },
   "file_extension": ".py",
   "mimetype": "text/x-python",
   "name": "python",
   "nbconvert_exporter": "python",
   "pygments_lexer": "ipython3",
   "version": "3.6.8"
  }
 },
 "nbformat": 4,
 "nbformat_minor": 2
}
